{
 "cells": [
  {
   "cell_type": "code",
   "execution_count": 5,
   "id": "e9773dbf-017c-4e2a-9001-b4dbae139324",
   "metadata": {},
   "outputs": [
    {
     "name": "stdout",
     "output_type": "stream",
     "text": [
      "\u001b[38;5;2m✔ Download and installation successful\u001b[0m\n",
      "You can now load the package via spacy.load('en_core_web_sm')\n",
      "\u001b[38;5;3m⚠ Restart to reload dependencies\u001b[0m\n",
      "If you are in a Jupyter or Colab notebook, you may need to restart Python in\n",
      "order to load all the package's dependencies. You can do this by selecting the\n",
      "'Restart kernel' or 'Restart runtime' option.\n"
     ]
    },
    {
     "ename": "ModuleNotFoundError",
     "evalue": "No module named 'clat_faq_data'",
     "output_type": "error",
     "traceback": [
      "\u001b[1;31m---------------------------------------------------------------------------\u001b[0m",
      "\u001b[1;31mModuleNotFoundError\u001b[0m                       Traceback (most recent call last)",
      "Cell \u001b[1;32mIn[5], line 9\u001b[0m\n\u001b[0;32m      5\u001b[0m \u001b[38;5;28;01mfrom\u001b[39;00m \u001b[38;5;21;01mrapidfuzz\u001b[39;00m \u001b[38;5;28;01mimport\u001b[39;00m process, fuzz\n\u001b[0;32m      7\u001b[0m nlp \u001b[38;5;241m=\u001b[39m spacy\u001b[38;5;241m.\u001b[39mload(\u001b[38;5;124m\"\u001b[39m\u001b[38;5;124men_core_web_sm\u001b[39m\u001b[38;5;124m\"\u001b[39m)\n\u001b[1;32m----> 9\u001b[0m \u001b[38;5;28;01mfrom\u001b[39;00m \u001b[38;5;21;01mclat_faq_data\u001b[39;00m \u001b[38;5;28;01mimport\u001b[39;00m clat_faqs\n\u001b[0;32m     12\u001b[0m faq_questions \u001b[38;5;241m=\u001b[39m \u001b[38;5;28mlist\u001b[39m(clat_faqs\u001b[38;5;241m.\u001b[39mkeys())\n\u001b[0;32m     14\u001b[0m \u001b[38;5;28;01mdef\u001b[39;00m \u001b[38;5;21mchat_with_bot\u001b[39m():\n",
      "\u001b[1;31mModuleNotFoundError\u001b[0m: No module named 'clat_faq_data'"
     ]
    }
   ],
   "source": [
    "import spacy.cli\n",
    "spacy.cli.download(\"en_core_web_sm\")\n",
    "\n",
    "import spacy\n",
    "from rapidfuzz import process, fuzz\n",
    "\n",
    "nlp = spacy.load(\"en_core_web_sm\")\n",
    "\n",
    "from clat_faqs_data import clat_faqs\n",
    "\n",
    "\n",
    "faq_questions = list(clat_faqs.keys())\n",
    "\n",
    "def chat_with_bot():\n",
    "    print(\"Hi! I'm your CLAT assistant. Ask me anything about the CLAT exam. Type 'exit' to quit.\\n\")\n",
    "    while True:\n",
    "        user_input = input(\"You: \").strip()\n",
    "        if user_input.lower() == \"exit\":\n",
    "            print(\"Bot: Goodbye! Good luck with your CLAT preparation.\")\n",
    "            break\n",
    "        \n",
    "        # Use RapidFuzz to find the closest question\n",
    "        best_match = process.extractOne(user_input.lower(), faq_questions, scorer=fuzz.token_sort_ratio)\n",
    "\n",
    "        if best_match and best_match[1] > 60:\n",
    "            matched_question = best_match[0]\n",
    "            response = clat_faqs[matched_question]\n",
    "        else:\n",
    "            response = \"Sorry, I couldn't find the answer. Please try rephrasing your question.\"\n",
    "        \n",
    "        print(\"Bot:\", response)\n",
    "\n",
    "# Start chat\n",
    "chat_with_bot()\n"
   ]
  },
  {
   "cell_type": "code",
   "execution_count": null,
   "id": "bd09de53-55e1-4ebf-b3f2-c22340bb3811",
   "metadata": {},
   "outputs": [],
   "source": []
  }
 ],
 "metadata": {
  "kernelspec": {
   "display_name": "Python 3 (ipykernel)",
   "language": "python",
   "name": "python3"
  },
  "language_info": {
   "codemirror_mode": {
    "name": "ipython",
    "version": 3
   },
   "file_extension": ".py",
   "mimetype": "text/x-python",
   "name": "python",
   "nbconvert_exporter": "python",
   "pygments_lexer": "ipython3",
   "version": "3.12.10"
  }
 },
 "nbformat": 4,
 "nbformat_minor": 5
}

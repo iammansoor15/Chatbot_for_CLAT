{
 "cells": [
  {
   "cell_type": "code",
   "execution_count": null,
   "id": "e9773dbf-017c-4e2a-9001-b4dbae139324",
   "metadata": {},
   "outputs": [],
   "source": [
    "import spacy.cli\n",
    "spacy.cli.download(\"en_core_web_sm\")\n",
    "\n",
    "import spacy\n",
    "from rapidfuzz import process, fuzz\n",
    "\n",
    "nlp = spacy.load(\"en_core_web_sm\")"
   ]
  },
  {
   "cell_type": "code",
   "execution_count": null,
   "id": "bd09de53-55e1-4ebf-b3f2-c22340bb3811",
   "metadata": {},
   "outputs": [],
   "source": [
    "from clat_faqs_data import clat_faqs\n",
    "faq_questions = list(clat_faqs.keys())"
   ]
  },
  {
   "cell_type": "code",
   "execution_count": null,
   "id": "c10f08d2",
   "metadata": {},
   "outputs": [],
   "source": [
    "def preprocess(text):\n",
    "    doc = nlp(text.lower())  # Lowercase + NLP processing\n",
    "    cleaned_tokens = [token.lemma_ for token in doc if not token.is_stop and not token.is_punct]\n",
    "    return \" \".join(cleaned_tokens)"
   ]
  },
  {
   "cell_type": "code",
   "execution_count": null,
   "id": "0f55b28a",
   "metadata": {},
   "outputs": [],
   "source": [
    "def chat_with_bot():\n",
    "    print(\"Hi! I'm your CLAT assistant. Ask me anything about the CLAT exam. Type 'exit' to quit.\\n\")\n",
    "    while True:\n",
    "        user_input = input(\"You: \").strip()\n",
    "        if user_input.lower() == \"exit\":\n",
    "            print(\"Bot: Goodbye! Good luck with your CLAT preparation.\")\n",
    "            break\n",
    "\n",
    "        # Preprocess user input\n",
    "        cleaned_input = preprocess(user_input)\n",
    "\n",
    "        # Use RapidFuzz to find the closest question\n",
    "        best_match = process.extractOne(cleaned_input, faq_questions, scorer=fuzz.token_sort_ratio)\n",
    "\n",
    "        if best_match and best_match[1] > 50:\n",
    "            matched_question = best_match[0]\n",
    "            response = clat_faqs[matched_question]\n",
    "        else:\n",
    "            response = \"Sorry, I couldn't find the answer. Please try rephrasing your question.\"\n",
    "        \n",
    "        print(\"Bot:\", response)\n",
    "\n",
    "# Run chatbot\n",
    "chat_with_bot()"
   ]
  },
  {
   "cell_type": "code",
   "execution_count": null,
   "id": "e021fba5",
   "metadata": {},
   "outputs": [],
   "source": []
  }
 ],
 "metadata": {
  "kernelspec": {
   "display_name": "Python 3",
   "language": "python",
   "name": "python3"
  },
  "language_info": {
   "codemirror_mode": {
    "name": "ipython",
    "version": 3
   },
   "file_extension": ".py",
   "mimetype": "text/x-python",
   "name": "python",
   "nbconvert_exporter": "python",
   "pygments_lexer": "ipython3",
   "version": "3.12.10"
  }
 },
 "nbformat": 4,
 "nbformat_minor": 5
}
